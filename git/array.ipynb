{
 "cells": [
  {
   "cell_type": "code",
   "execution_count": 6,
   "metadata": {},
   "outputs": [
    {
     "name": "stdout",
     "output_type": "stream",
     "text": [
      "[1 2 3 4]\n"
     ]
    }
   ],
   "source": [
    "import numpy as np\n",
    "\n",
    "a = np.array([1,2,3,4])\n",
    "print(a)"
   ]
  },
  {
   "cell_type": "code",
   "execution_count": 8,
   "metadata": {},
   "outputs": [
    {
     "name": "stdout",
     "output_type": "stream",
     "text": [
      "初始\n",
      " [[22 33 44]\n",
      " [55 66 77]\n",
      " [88 99 11]]\n",
      "[[False False False]\n",
      " [False  True False]\n",
      " [False False False]]\n",
      "[[ True  True  True]\n",
      " [False False False]\n",
      " [False False  True]]\n",
      "[22 33 44 11]\n",
      "[[33 44]\n",
      " [66 77]]\n",
      "[[22 33]\n",
      " [55 66]\n",
      " [88 99]]\n",
      "or \n",
      " [[False False False]\n",
      " [ True  True False]\n",
      " [False False False]]\n",
      "[[22 33 44]\n",
      " [ 0  0 77]\n",
      " [88 99 11]]\n"
     ]
    }
   ],
   "source": [
    "a = np.array([[22,33,44],[55,66,77],[88,99,11]])\n",
    "\n",
    "print('初始\\n',a)\n",
    "#与单一数值比较\n",
    "print(a == 66)\n",
    "\n",
    "#多数值 and print it!\n",
    "print (a <= 44)\n",
    "print (a[a<=44])\n",
    "\n",
    "#切片\n",
    "print (a[0:2,1:3])\n",
    "print (a[...,:2])\n",
    "\n",
    "#与或\n",
    "b = (a == 66) | (a == 55)\n",
    "print('or \\n',b)\n",
    "\n",
    "a[b] = 0\n",
    "print (a)"
   ]
  },
  {
   "cell_type": "code",
   "execution_count": 9,
   "metadata": {},
   "outputs": [
    {
     "name": "stdout",
     "output_type": "stream",
     "text": [
      "<U1\n",
      "<U1\n",
      "[2. 5.]\n",
      "type: int32\n",
      "\n",
      "value: [[2 3 4]\n",
      " [5 6 0]]\n",
      "2\n"
     ]
    }
   ],
   "source": [
    "s = np.array([['2','3','4'],['5','6','0']])\n",
    "print(s.dtype)\n",
    "\n",
    "a = np.array(['1','2','3'])\n",
    "print (a.dtype)\n",
    "#print(a.min())\n",
    "\n",
    "t = s[:,0].astype(float)\n",
    "print(t)\n",
    "\n",
    "t = s.astype(int)\n",
    "print ('type:',t.dtype)\n",
    "print ('\\nvalue:',t)\n",
    "print (t[:,0].min())"
   ]
  },
  {
   "cell_type": "code",
   "execution_count": 10,
   "metadata": {},
   "outputs": [
    {
     "name": "stdout",
     "output_type": "stream",
     "text": [
      "[ 9 11]\n",
      "[7 9 4]\n"
     ]
    }
   ],
   "source": [
    "#sum!\n",
    "print (t.sum(axis=1))\n",
    "\n",
    "print (t.sum(axis=0))"
   ]
  },
  {
   "cell_type": "code",
   "execution_count": null,
   "metadata": {},
   "outputs": [],
   "source": []
  },
  {
   "cell_type": "code",
   "execution_count": null,
   "metadata": {},
   "outputs": [],
   "source": []
  },
  {
   "cell_type": "code",
   "execution_count": null,
   "metadata": {},
   "outputs": [],
   "source": []
  },
  {
   "cell_type": "code",
   "execution_count": null,
   "metadata": {},
   "outputs": [],
   "source": []
  }
 ],
 "metadata": {
  "kernelspec": {
   "display_name": "Python 3",
   "language": "python",
   "name": "python3"
  },
  "language_info": {
   "codemirror_mode": {
    "name": "ipython",
    "version": 3
   },
   "file_extension": ".py",
   "mimetype": "text/x-python",
   "name": "python",
   "nbconvert_exporter": "python",
   "pygments_lexer": "ipython3",
   "version": "3.7.1"
  }
 },
 "nbformat": 4,
 "nbformat_minor": 2
}
